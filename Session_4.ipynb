{
  "nbformat": 4,
  "nbformat_minor": 0,
  "metadata": {
    "colab": {
      "provenance": [],
      "gpuType": "T4",
      "include_colab_link": true
    },
    "kernelspec": {
      "name": "python3",
      "display_name": "Python 3"
    },
    "language_info": {
      "name": "python"
    },
    "accelerator": "GPU",
    "gpuClass": "standard"
  },
  "cells": [
    {
      "cell_type": "markdown",
      "metadata": {
        "id": "view-in-github",
        "colab_type": "text"
      },
      "source": [
        "<a href=\"https://colab.research.google.com/github/pratapmicrosoft/MLAI/blob/main/Session_4.ipynb\" target=\"_parent\"><img src=\"https://colab.research.google.com/assets/colab-badge.svg\" alt=\"Open In Colab\"/></a>"
      ]
    },
    {
      "cell_type": "markdown",
      "source": [
        "CODE BLOCK: 1"
      ],
      "metadata": {
        "id": "n09vaEgP6pLj"
      }
    },
    {
      "cell_type": "code",
      "execution_count": 35,
      "metadata": {
        "id": "6PlbomWY3RSq"
      },
      "outputs": [],
      "source": [
        "import torch\n",
        "import torch.nn as nn\n",
        "import torch.nn.functional as F\n",
        "import torch.optim as optim\n",
        "from torchvision import datasets, transforms"
      ]
    },
    {
      "cell_type": "markdown",
      "source": [
        "CODE BLOCK: 2"
      ],
      "metadata": {
        "id": "VjBHHQVA6sXt"
      }
    },
    {
      "cell_type": "code",
      "source": [
        "# CUDA?\n",
        "cuda = torch.cuda.is_available()\n",
        "device = torch.device(\"cuda\" if cuda else \"cpu\")\n",
        "print(\"CUDA Available?\", device)"
      ],
      "metadata": {
        "colab": {
          "base_uri": "https://localhost:8080/"
        },
        "id": "94BxVVBP3WwS",
        "outputId": "53836cf3-75b5-4989-b45e-51585ec9e4e9"
      },
      "execution_count": 36,
      "outputs": [
        {
          "output_type": "stream",
          "name": "stdout",
          "text": [
            "CUDA Available? cuda\n"
          ]
        }
      ]
    },
    {
      "cell_type": "markdown",
      "source": [
        "CODE BLOCK: 3"
      ],
      "metadata": {
        "id": "3UHq59Sw6tmW"
      }
    },
    {
      "cell_type": "code",
      "source": [
        "# Train data transformations\n",
        "train_transforms = transforms.Compose([\n",
        "    transforms.RandomApply([transforms.CenterCrop(22), ], p=0.1),\n",
        "    transforms.Resize((28, 28)),\n",
        "    transforms.RandomRotation((-15., 15.), fill=0),\n",
        "    transforms.ToTensor(),\n",
        "    transforms.Normalize((0.1307,), (0.3081,)),\n",
        "    ])\n",
        "\n",
        "# Test data transformations\n",
        "test_transforms = transforms.Compose([\n",
        "    transforms.ToTensor(),\n",
        "    transforms.Normalize((0.1307,), (0.3081,))\n",
        "    ])"
      ],
      "metadata": {
        "id": "KpshQ2Ug38m2"
      },
      "execution_count": 37,
      "outputs": []
    },
    {
      "cell_type": "markdown",
      "source": [
        "CODE BLOCK: 4"
      ],
      "metadata": {
        "id": "zQm17pM46zHL"
      }
    },
    {
      "cell_type": "code",
      "source": [
        "train_data = datasets.MNIST('../data', train=True, download=True, transform=train_transforms)\n",
        "test_data = datasets.MNIST('../data', train=False, download=True, transform=test_transforms)"
      ],
      "metadata": {
        "id": "JB79ZYW13-AO"
      },
      "execution_count": 38,
      "outputs": []
    },
    {
      "cell_type": "markdown",
      "source": [
        "CODE BLOCK: 5"
      ],
      "metadata": {
        "id": "_PKSHxto6116"
      }
    },
    {
      "cell_type": "code",
      "source": [
        "batch_size = 512\n",
        "\n",
        "kwargs = {'batch_size': batch_size, 'shuffle': True, 'num_workers': 2, 'pin_memory': True}\n",
        "\n",
        "test_loader = torch.utils.data.DataLoader(test_data, **kwargs)\n",
        "train_loader = torch.utils.data.DataLoader(train_data, **kwargs)"
      ],
      "metadata": {
        "id": "avCKK1uL4A68"
      },
      "execution_count": 39,
      "outputs": []
    },
    {
      "cell_type": "markdown",
      "source": [
        "CODE BLOCK: 6"
      ],
      "metadata": {
        "id": "Hi_0rfq56-29"
      }
    },
    {
      "cell_type": "code",
      "source": [
        "import matplotlib.pyplot as plt\n",
        "\n",
        "batch_data, batch_label = next(iter(train_loader)) \n",
        "\n",
        "fig = plt.figure()\n",
        "\n",
        "for i in range(12):\n",
        "  plt.subplot(3,4,i+1)\n",
        "  plt.tight_layout()\n",
        "  plt.imshow(batch_data[i].squeeze(0), cmap='gray')\n",
        "  plt.title(batch_label[i].item())\n",
        "  plt.xticks([])\n",
        "  plt.yticks([])"
      ],
      "metadata": {
        "colab": {
          "base_uri": "https://localhost:8080/",
          "height": 463
        },
        "id": "Hx7QkLcw4Epc",
        "outputId": "ef2f848e-a373-4ddc-d744-8a6187aa54c7"
      },
      "execution_count": 40,
      "outputs": [
        {
          "output_type": "display_data",
          "data": {
            "text/plain": [
              "<Figure size 640x480 with 12 Axes>"
            ],
            "image/png": "[encoded data removed]"
          },
          "metadata": {}
        }
      ]
    },
    {
      "cell_type": "markdown",
      "source": [
        "CODE BLOCK: 7"
      ],
      "metadata": {
        "id": "y3XbVJSb7Aee"
      }
    },
    {
      "cell_type": "code",
      "source": [
        "class Net(nn.Module):\n",
        "    #This defines the structure of the NN.\n",
        "    def __init__(self):\n",
        "        super(Net, self).__init__()\n",
        "        self.conv1 = nn.Conv2d(1, 32, kernel_size=3)\n",
        "        self.conv2 = nn.Conv2d(32, 64, kernel_size=3)\n",
        "        self.conv3 = nn.Conv2d(64, 128, kernel_size=3)\n",
        "        self.conv4 = nn.Conv2d(128, 256, kernel_size=3)\n",
        "        self.fc1 = nn.Linear(4096, 50)\n",
        "        self.fc2 = nn.Linear(50, 10)\n",
        "\n",
        "    def forward(self, x):\n",
        "        print(x.shape)\n",
        "        x = F.relu(self.conv1(x), 2)\n",
        "        print(x.shape)\n",
        "        x = F.relu(F.max_pool2d(self.conv2(x), 2)) \n",
        "        print(x.shape)\n",
        "        x = F.relu(self.conv3(x), 2)\n",
        "        print(x.shape)\n",
        "        x = F.relu(F.max_pool2d(self.conv4(x), 2)) \n",
        "        print(x.shape)\n",
        "        x = x.view(-1, 4096)\n",
        "        x = F.relu(self.fc1(x))\n",
        "        x = self.fc2(x)\n",
        "        return F.log_softmax(x, dim=1)"
      ],
      "metadata": {
        "id": "UHBolvMH4F8y"
      },
      "execution_count": 80,
      "outputs": []
    },
    {
      "cell_type": "markdown",
      "source": [
        "CODE BLOCK: 8"
      ],
      "metadata": {
        "id": "89gd4_s7AO2y"
      }
    },
    {
      "cell_type": "code",
      "source": [
        "# Data to plot accuracy and loss graphs\n",
        "train_losses = []\n",
        "test_losses = []\n",
        "train_acc = []\n",
        "test_acc = []\n",
        "\n",
        "test_incorrect_pred = {'images': [], 'ground_truths': [], 'predicted_vals': []}"
      ],
      "metadata": {
        "id": "7du4zM474LvT"
      },
      "execution_count": 56,
      "outputs": []
    },
    {
      "cell_type": "markdown",
      "source": [
        "CODE BLOCK: 8"
      ],
      "metadata": {
        "id": "kCwIPHqwAQgB"
      }
    },
    {
      "cell_type": "code",
      "source": [
        "\n",
        "from tqdm import tqdm\n",
        "\n",
        "def GetCorrectPredCount(pPrediction, pLabels):\n",
        "  return pPrediction.argmax(dim=1).eq(pLabels).sum().item()\n",
        "\n",
        "def train(model, device, train_loader, optimizer):\n",
        "  model.train()\n",
        "  pbar = tqdm(train_loader)\n",
        "\n",
        "  train_loss = 0\n",
        "  correct = 0\n",
        "  processed = 0\n",
        "\n",
        "  for batch_idx, (data, target) in enumerate(pbar):\n",
        "    data, target = data.to(device), target.to(device)\n",
        "    optimizer.zero_grad()\n",
        "\n",
        "    # Predict\n",
        "    pred = model(data)\n",
        "\n",
        "    # Calculate loss\n",
        "    loss = F.nll_loss(pred, target)\n",
        "    train_loss+=loss.item()\n",
        "\n",
        "    # Backpropagation\n",
        "    loss.backward()\n",
        "    optimizer.step()\n",
        "    \n",
        "    correct += GetCorrectPredCount(pred, target)\n",
        "    processed += len(data)\n",
        "\n",
        "    pbar.set_description(desc= f'Train: Loss={loss.item():0.4f} Batch_id={batch_idx} Accuracy={100*correct/processed:0.2f}')\n",
        "\n",
        "  train_acc.append(100*correct/processed)\n",
        "  train_losses.append(train_loss/len(train_loader))\n",
        "\n",
        "def test(model, device, test_loader):\n",
        "    model.eval()\n",
        "\n",
        "    test_loss = 0\n",
        "    correct = 0\n",
        "\n",
        "    with torch.no_grad():\n",
        "        for batch_idx, (data, target) in enumerate(test_loader):\n",
        "            data, target = data.to(device), target.to(device)\n",
        "\n",
        "            output = model(data)\n",
        "            test_loss += F.nll_loss(output, target, reduction='sum').item()  # sum up batch loss\n",
        "\n",
        "            correct += GetCorrectPredCount(output, target)\n",
        "\n",
        "\n",
        "    test_loss /= len(test_loader.dataset)\n",
        "    test_acc.append(100. * correct / len(test_loader.dataset))\n",
        "    test_losses.append(test_loss)\n",
        "\n",
        "    print('Test set: Average loss: {:.4f}, Accuracy: {}/{} ({:.2f}%)\\n'.format(\n",
        "        test_loss, correct, len(test_loader.dataset),\n",
        "        100. * correct / len(test_loader.dataset)))\n",
        "     "
      ],
      "metadata": {
        "id": "gpNw3-sy4QGd"
      },
      "execution_count": 57,
      "outputs": []
    },
    {
      "cell_type": "markdown",
      "source": [
        "CODE BLOCK: 9"
      ],
      "metadata": {
        "id": "09GYKBGRAT5M"
      }
    },
    {
      "cell_type": "code",
      "source": [
        "model = Net().to(device)\n",
        "optimizer = optim.SGD(model.parameters(), lr=0.01, momentum=0.9)\n",
        "scheduler = optim.lr_scheduler.StepLR(optimizer, step_size=15, gamma=0.1, verbose=True)\n",
        "num_epochs = 20\n",
        "\n",
        "for epoch in range(1, num_epochs+1):\n",
        "  print(f'Epoch {epoch}')\n",
        "  train(model, device, train_loader, optimizer)\n",
        "  test(model, device, test_loader)\n",
        "  scheduler.step()"
      ],
      "metadata": {
        "colab": {
          "base_uri": "https://localhost:8080/"
        },
        "id": "Owqiet9M4TV7",
        "outputId": "d1973648-950d-4744-b81e-89f6cffc42ee"
      },
      "execution_count": 81,
      "outputs": [
        {
          "output_type": "stream",
          "name": "stdout",
          "text": [
            "Adjusting learning rate of group 0 to 1.0000e-02.\n",
            "Epoch 1\n"
          ]
        },
        {
          "output_type": "stream",
          "name": "stderr",
          "text": [
            "Train: Loss=2.3045 Batch_id=1 Accuracy=7.42:   1%|          | 1/118 [00:00<00:58,  2.01it/s]"
          ]
        },
        {
          "output_type": "stream",
          "name": "stdout",
          "text": [
            "torch.Size([512, 1, 28, 28])\n",
            "torch.Size([512, 32, 26, 26])\n",
            "torch.Size([512, 64, 12, 12])\n",
            "torch.Size([512, 128, 10, 10])\n",
            "torch.Size([512, 256, 4, 4])\n",
            "torch.Size([512, 1, 28, 28])\n",
            "torch.Size([512, 32, 26, 26])\n",
            "torch.Size([512, 64, 12, 12])\n",
            "torch.Size([512, 128, 10, 10])\n",
            "torch.Size([512, 256, 4, 4])\n"
          ]
        },
        {
          "output_type": "stream",
          "name": "stderr",
          "text": [
            "Train: Loss=2.3063 Batch_id=3 Accuracy=7.08:   3%|▎         | 3/118 [00:00<00:29,  3.88it/s]"
          ]
        },
        {
          "output_type": "stream",
          "name": "stdout",
          "text": [
            "torch.Size([512, 1, 28, 28])\n",
            "torch.Size([512, 32, 26, 26])\n",
            "torch.Size([512, 64, 12, 12])\n",
            "torch.Size([512, 128, 10, 10])\n",
            "torch.Size([512, 256, 4, 4])\n",
            "torch.Size([512, 1, 28, 28])\n",
            "torch.Size([512, 32, 26, 26])\n",
            "torch.Size([512, 64, 12, 12])\n",
            "torch.Size([512, 128, 10, 10])\n",
            "torch.Size([512, 256, 4, 4])\n"
          ]
        },
        {
          "output_type": "stream",
          "name": "stderr",
          "text": [
            "Train: Loss=2.3063 Batch_id=5 Accuracy=7.03:   4%|▍         | 5/118 [00:01<00:25,  4.47it/s]"
          ]
        },
        {
          "output_type": "stream",
          "name": "stdout",
          "text": [
            "torch.Size([512, 1, 28, 28])\n",
            "torch.Size([512, 32, 26, 26])\n",
            "torch.Size([512, 64, 12, 12])\n",
            "torch.Size([512, 128, 10, 10])\n",
            "torch.Size([512, 256, 4, 4])\n",
            "torch.Size([512, 1, 28, 28])\n",
            "torch.Size([512, 32, 26, 26])\n",
            "torch.Size([512, 64, 12, 12])\n",
            "torch.Size([512, 128, 10, 10])\n",
            "torch.Size([512, 256, 4, 4])\n"
          ]
        },
        {
          "output_type": "stream",
          "name": "stderr",
          "text": [
            "Train: Loss=2.3022 Batch_id=7 Accuracy=7.28:   6%|▌         | 7/118 [00:01<00:22,  5.03it/s]"
          ]
        },
        {
          "output_type": "stream",
          "name": "stdout",
          "text": [
            "torch.Size([512, 1, 28, 28])\n",
            "torch.Size([512, 32, 26, 26])\n",
            "torch.Size([512, 64, 12, 12])\n",
            "torch.Size([512, 128, 10, 10])\n",
            "torch.Size([512, 256, 4, 4])\n",
            "torch.Size([512, 1, 28, 28])\n",
            "torch.Size([512, 32, 26, 26])\n",
            "torch.Size([512, 64, 12, 12])\n",
            "torch.Size([512, 128, 10, 10])\n",
            "torch.Size([512, 256, 4, 4])\n"
          ]
        },
        {
          "output_type": "stream",
          "name": "stderr",
          "text": [
            "Train: Loss=2.3000 Batch_id=9 Accuracy=7.68:   8%|▊         | 9/118 [00:01<00:20,  5.35it/s]"
          ]
        },
        {
          "output_type": "stream",
          "name": "stdout",
          "text": [
            "torch.Size([512, 1, 28, 28])\n",
            "torch.Size([512, 32, 26, 26])\n",
            "torch.Size([512, 64, 12, 12])\n",
            "torch.Size([512, 128, 10, 10])\n",
            "torch.Size([512, 256, 4, 4])\n",
            "torch.Size([512, 1, 28, 28])\n",
            "torch.Size([512, 32, 26, 26])\n",
            "torch.Size([512, 64, 12, 12])\n",
            "torch.Size([512, 128, 10, 10])\n",
            "torch.Size([512, 256, 4, 4])\n"
          ]
        },
        {
          "output_type": "stream",
          "name": "stderr",
          "text": [
            "Train: Loss=2.2991 Batch_id=11 Accuracy=8.17:   9%|▉         | 11/118 [00:02<00:22,  4.74it/s]"
          ]
        },
        {
          "output_type": "stream",
          "name": "stdout",
          "text": [
            "torch.Size([512, 1, 28, 28])\n",
            "torch.Size([512, 32, 26, 26])\n",
            "torch.Size([512, 64, 12, 12])\n",
            "torch.Size([512, 128, 10, 10])\n",
            "torch.Size([512, 256, 4, 4])\n",
            "torch.Size([512, 1, 28, 28])\n",
            "torch.Size([512, 32, 26, 26])\n",
            "torch.Size([512, 64, 12, 12])\n",
            "torch.Size([512, 128, 10, 10])\n",
            "torch.Size([512, 256, 4, 4])\n"
          ]
        },
        {
          "output_type": "stream",
          "name": "stderr",
          "text": [
            "Train: Loss=2.2912 Batch_id=13 Accuracy=8.71:  11%|█         | 13/118 [00:03<00:25,  4.08it/s]"
          ]
        },
        {
          "output_type": "stream",
          "name": "stdout",
          "text": [
            "torch.Size([512, 1, 28, 28])\n",
            "torch.Size([512, 32, 26, 26])\n",
            "torch.Size([512, 64, 12, 12])\n",
            "torch.Size([512, 128, 10, 10])\n",
            "torch.Size([512, 256, 4, 4])\n",
            "torch.Size([512, 1, 28, 28])\n",
            "torch.Size([512, 32, 26, 26])\n",
            "torch.Size([512, 64, 12, 12])\n",
            "torch.Size([512, 128, 10, 10])\n",
            "torch.Size([512, 256, 4, 4])\n"
          ]
        },
        {
          "output_type": "stream",
          "name": "stderr",
          "text": [
            "Train: Loss=2.2898 Batch_id=15 Accuracy=9.78:  13%|█▎        | 15/118 [00:03<00:27,  3.79it/s]"
          ]
        },
        {
          "output_type": "stream",
          "name": "stdout",
          "text": [
            "torch.Size([512, 1, 28, 28])\n",
            "torch.Size([512, 32, 26, 26])\n",
            "torch.Size([512, 64, 12, 12])\n",
            "torch.Size([512, 128, 10, 10])\n",
            "torch.Size([512, 256, 4, 4])\n",
            "torch.Size([512, 1, 28, 28])\n",
            "torch.Size([512, 32, 26, 26])\n",
            "torch.Size([512, 64, 12, 12])\n",
            "torch.Size([512, 128, 10, 10])\n",
            "torch.Size([512, 256, 4, 4])\n"
          ]
        },
        {
          "output_type": "stream",
          "name": "stderr",
          "text": [
            "Train: Loss=2.2917 Batch_id=17 Accuracy=10.63:  14%|█▍        | 17/118 [00:04<00:27,  3.73it/s]"
          ]
        },
        {
          "output_type": "stream",
          "name": "stdout",
          "text": [
            "torch.Size([512, 1, 28, 28])\n",
            "torch.Size([512, 32, 26, 26])\n",
            "torch.Size([512, 64, 12, 12])\n",
            "torch.Size([512, 128, 10, 10])\n",
            "torch.Size([512, 256, 4, 4])\n",
            "torch.Size([512, 1, 28, 28])\n",
            "torch.Size([512, 32, 26, 26])\n",
            "torch.Size([512, 64, 12, 12])\n",
            "torch.Size([512, 128, 10, 10])\n",
            "torch.Size([512, 256, 4, 4])\n"
          ]
        },
        {
          "output_type": "stream",
          "name": "stderr",
          "text": [
            "Train: Loss=2.2900 Batch_id=19 Accuracy=11.30:  16%|█▌        | 19/118 [00:04<00:26,  3.76it/s]"
          ]
        },
        {
          "output_type": "stream",
          "name": "stdout",
          "text": [
            "torch.Size([512, 1, 28, 28])\n",
            "torch.Size([512, 32, 26, 26])\n",
            "torch.Size([512, 64, 12, 12])\n",
            "torch.Size([512, 128, 10, 10])\n",
            "torch.Size([512, 256, 4, 4])\n",
            "torch.Size([512, 1, 28, 28])\n",
            "torch.Size([512, 32, 26, 26])\n",
            "torch.Size([512, 64, 12, 12])\n",
            "torch.Size([512, 128, 10, 10])\n",
            "torch.Size([512, 256, 4, 4])\n"
          ]
        },
        {
          "output_type": "stream",
          "name": "stderr",
          "text": [
            "Train: Loss=2.2795 Batch_id=21 Accuracy=11.81:  18%|█▊        | 21/118 [00:05<00:23,  4.17it/s]"
          ]
        },
        {
          "output_type": "stream",
          "name": "stdout",
          "text": [
            "torch.Size([512, 1, 28, 28])\n",
            "torch.Size([512, 32, 26, 26])\n",
            "torch.Size([512, 64, 12, 12])\n",
            "torch.Size([512, 128, 10, 10])\n",
            "torch.Size([512, 256, 4, 4])\n",
            "torch.Size([512, 1, 28, 28])\n",
            "torch.Size([512, 32, 26, 26])\n",
            "torch.Size([512, 64, 12, 12])\n",
            "torch.Size([512, 128, 10, 10])\n",
            "torch.Size([512, 256, 4, 4])\n"
          ]
        },
        {
          "output_type": "stream",
          "name": "stderr",
          "text": [
            "Train: Loss=2.2714 Batch_id=23 Accuracy=12.67:  19%|█▉        | 23/118 [00:05<00:20,  4.56it/s]"
          ]
        },
        {
          "output_type": "stream",
          "name": "stdout",
          "text": [
            "torch.Size([512, 1, 28, 28])\n",
            "torch.Size([512, 32, 26, 26])\n",
            "torch.Size([512, 64, 12, 12])\n",
            "torch.Size([512, 128, 10, 10])\n",
            "torch.Size([512, 256, 4, 4])\n",
            "torch.Size([512, 1, 28, 28])\n",
            "torch.Size([512, 32, 26, 26])\n",
            "torch.Size([512, 64, 12, 12])\n",
            "torch.Size([512, 128, 10, 10])\n",
            "torch.Size([512, 256, 4, 4])\n"
          ]
        },
        {
          "output_type": "stream",
          "name": "stderr",
          "text": [
            "Train: Loss=2.2639 Batch_id=25 Accuracy=13.84:  21%|██        | 25/118 [00:05<00:18,  5.01it/s]"
          ]
        },
        {
          "output_type": "stream",
          "name": "stdout",
          "text": [
            "torch.Size([512, 1, 28, 28])\n",
            "torch.Size([512, 32, 26, 26])\n",
            "torch.Size([512, 64, 12, 12])\n",
            "torch.Size([512, 128, 10, 10])\n",
            "torch.Size([512, 256, 4, 4])\n",
            "torch.Size([512, 1, 28, 28])\n",
            "torch.Size([512, 32, 26, 26])\n",
            "torch.Size([512, 64, 12, 12])\n",
            "torch.Size([512, 128, 10, 10])\n",
            "torch.Size([512, 256, 4, 4])\n"
          ]
        },
        {
          "output_type": "stream",
          "name": "stderr",
          "text": [
            "Train: Loss=2.2590 Batch_id=27 Accuracy=15.09:  23%|██▎       | 27/118 [00:06<00:17,  5.26it/s]"
          ]
        },
        {
          "output_type": "stream",
          "name": "stdout",
          "text": [
            "torch.Size([512, 1, 28, 28])\n",
            "torch.Size([512, 32, 26, 26])\n",
            "torch.Size([512, 64, 12, 12])\n",
            "torch.Size([512, 128, 10, 10])\n",
            "torch.Size([512, 256, 4, 4])\n",
            "torch.Size([512, 1, 28, 28])\n",
            "torch.Size([512, 32, 26, 26])\n",
            "torch.Size([512, 64, 12, 12])\n",
            "torch.Size([512, 128, 10, 10])\n",
            "torch.Size([512, 256, 4, 4])\n"
          ]
        },
        {
          "output_type": "stream",
          "name": "stderr",
          "text": [
            "Train: Loss=2.2402 Batch_id=29 Accuracy=16.52:  25%|██▍       | 29/118 [00:06<00:16,  5.46it/s]"
          ]
        },
        {
          "output_type": "stream",
          "name": "stdout",
          "text": [
            "torch.Size([512, 1, 28, 28])\n",
            "torch.Size([512, 32, 26, 26])\n",
            "torch.Size([512, 64, 12, 12])\n",
            "torch.Size([512, 128, 10, 10])\n",
            "torch.Size([512, 256, 4, 4])\n",
            "torch.Size([512, 1, 28, 28])\n",
            "torch.Size([512, 32, 26, 26])\n",
            "torch.Size([512, 64, 12, 12])\n",
            "torch.Size([512, 128, 10, 10])\n",
            "torch.Size([512, 256, 4, 4])\n"
          ]
        },
        {
          "output_type": "stream",
          "name": "stderr",
          "text": [
            "Train: Loss=2.2207 Batch_id=31 Accuracy=17.74:  26%|██▋       | 31/118 [00:06<00:15,  5.78it/s]"
          ]
        },
        {
          "output_type": "stream",
          "name": "stdout",
          "text": [
            "torch.Size([512, 1, 28, 28])\n",
            "torch.Size([512, 32, 26, 26])\n",
            "torch.Size([512, 64, 12, 12])\n",
            "torch.Size([512, 128, 10, 10])\n",
            "torch.Size([512, 256, 4, 4])\n",
            "torch.Size([512, 1, 28, 28])\n",
            "torch.Size([512, 32, 26, 26])\n",
            "torch.Size([512, 64, 12, 12])\n",
            "torch.Size([512, 128, 10, 10])\n",
            "torch.Size([512, 256, 4, 4])\n"
          ]
        },
        {
          "output_type": "stream",
          "name": "stderr",
          "text": [
            "Train: Loss=2.2033 Batch_id=33 Accuracy=18.99:  28%|██▊       | 33/118 [00:07<00:14,  5.92it/s]"
          ]
        },
        {
          "output_type": "stream",
          "name": "stdout",
          "text": [
            "torch.Size([512, 1, 28, 28])\n",
            "torch.Size([512, 32, 26, 26])\n",
            "torch.Size([512, 64, 12, 12])\n",
            "torch.Size([512, 128, 10, 10])\n",
            "torch.Size([512, 256, 4, 4])\n",
            "torch.Size([512, 1, 28, 28])\n",
            "torch.Size([512, 32, 26, 26])\n",
            "torch.Size([512, 64, 12, 12])\n",
            "torch.Size([512, 128, 10, 10])\n",
            "torch.Size([512, 256, 4, 4])\n"
          ]
        },
        {
          "output_type": "stream",
          "name": "stderr",
          "text": [
            "Train: Loss=2.1586 Batch_id=35 Accuracy=20.14:  30%|██▉       | 35/118 [00:07<00:13,  6.07it/s]"
          ]
        },
        {
          "output_type": "stream",
          "name": "stdout",
          "text": [
            "torch.Size([512, 1, 28, 28])\n",
            "torch.Size([512, 32, 26, 26])\n",
            "torch.Size([512, 64, 12, 12])\n",
            "torch.Size([512, 128, 10, 10])\n",
            "torch.Size([512, 256, 4, 4])\n",
            "torch.Size([512, 1, 28, 28])\n",
            "torch.Size([512, 32, 26, 26])\n",
            "torch.Size([512, 64, 12, 12])\n",
            "torch.Size([512, 128, 10, 10])\n",
            "torch.Size([512, 256, 4, 4])\n"
          ]
        },
        {
          "output_type": "stream",
          "name": "stderr",
          "text": [
            "Train: Loss=2.1128 Batch_id=37 Accuracy=21.25:  31%|███▏      | 37/118 [00:07<00:13,  6.16it/s]"
          ]
        },
        {
          "output_type": "stream",
          "name": "stdout",
          "text": [
            "torch.Size([512, 1, 28, 28])\n",
            "torch.Size([512, 32, 26, 26])\n",
            "torch.Size([512, 64, 12, 12])\n",
            "torch.Size([512, 128, 10, 10])\n",
            "torch.Size([512, 256, 4, 4])\n",
            "torch.Size([512, 1, 28, 28])\n",
            "torch.Size([512, 32, 26, 26])\n",
            "torch.Size([512, 64, 12, 12])\n",
            "torch.Size([512, 128, 10, 10])\n",
            "torch.Size([512, 256, 4, 4])\n"
          ]
        },
        {
          "output_type": "stream",
          "name": "stderr",
          "text": [
            "Train: Loss=2.0319 Batch_id=39 Accuracy=22.70:  33%|███▎      | 39/118 [00:08<00:13,  5.88it/s]"
          ]
        },
        {
          "output_type": "stream",
          "name": "stdout",
          "text": [
            "torch.Size([512, 1, 28, 28])\n",
            "torch.Size([512, 32, 26, 26])\n",
            "torch.Size([512, 64, 12, 12])\n",
            "torch.Size([512, 128, 10, 10])\n",
            "torch.Size([512, 256, 4, 4])\n",
            "torch.Size([512, 1, 28, 28])\n",
            "torch.Size([512, 32, 26, 26])\n",
            "torch.Size([512, 64, 12, 12])\n",
            "torch.Size([512, 128, 10, 10])\n",
            "torch.Size([512, 256, 4, 4])\n"
          ]
        },
        {
          "output_type": "stream",
          "name": "stderr",
          "text": [
            "Train: Loss=1.9107 Batch_id=41 Accuracy=24.38:  35%|███▍      | 41/118 [00:08<00:13,  5.86it/s]"
          ]
        },
        {
          "output_type": "stream",
          "name": "stdout",
          "text": [
            "torch.Size([512, 1, 28, 28])\n",
            "torch.Size([512, 32, 26, 26])\n",
            "torch.Size([512, 64, 12, 12])\n",
            "torch.Size([512, 128, 10, 10])\n",
            "torch.Size([512, 256, 4, 4])\n",
            "torch.Size([512, 1, 28, 28])\n",
            "torch.Size([512, 32, 26, 26])\n",
            "torch.Size([512, 64, 12, 12])\n",
            "torch.Size([512, 128, 10, 10])\n",
            "torch.Size([512, 256, 4, 4])\n"
          ]
        },
        {
          "output_type": "stream",
          "name": "stderr",
          "text": [
            "Train: Loss=1.7000 Batch_id=43 Accuracy=25.98:  36%|███▋      | 43/118 [00:08<00:12,  6.03it/s]"
          ]
        },
        {
          "output_type": "stream",
          "name": "stdout",
          "text": [
            "torch.Size([512, 1, 28, 28])\n",
            "torch.Size([512, 32, 26, 26])\n",
            "torch.Size([512, 64, 12, 12])\n",
            "torch.Size([512, 128, 10, 10])\n",
            "torch.Size([512, 256, 4, 4])\n",
            "torch.Size([512, 1, 28, 28])\n",
            "torch.Size([512, 32, 26, 26])\n",
            "torch.Size([512, 64, 12, 12])\n",
            "torch.Size([512, 128, 10, 10])\n",
            "torch.Size([512, 256, 4, 4])\n"
          ]
        },
        {
          "output_type": "stream",
          "name": "stderr",
          "text": [
            "Train: Loss=1.3647 Batch_id=45 Accuracy=27.54:  38%|███▊      | 45/118 [00:09<00:12,  6.00it/s]"
          ]
        },
        {
          "output_type": "stream",
          "name": "stdout",
          "text": [
            "torch.Size([512, 1, 28, 28])\n",
            "torch.Size([512, 32, 26, 26])\n",
            "torch.Size([512, 64, 12, 12])\n",
            "torch.Size([512, 128, 10, 10])\n",
            "torch.Size([512, 256, 4, 4])\n",
            "torch.Size([512, 1, 28, 28])\n",
            "torch.Size([512, 32, 26, 26])\n",
            "torch.Size([512, 64, 12, 12])\n",
            "torch.Size([512, 128, 10, 10])\n",
            "torch.Size([512, 256, 4, 4])\n"
          ]
        },
        {
          "output_type": "stream",
          "name": "stderr",
          "text": [
            "Train: Loss=1.2395 Batch_id=47 Accuracy=28.95:  40%|███▉      | 47/118 [00:09<00:12,  5.85it/s]"
          ]
        },
        {
          "output_type": "stream",
          "name": "stdout",
          "text": [
            "torch.Size([512, 1, 28, 28])\n",
            "torch.Size([512, 32, 26, 26])\n",
            "torch.Size([512, 64, 12, 12])\n",
            "torch.Size([512, 128, 10, 10])\n",
            "torch.Size([512, 256, 4, 4])\n",
            "torch.Size([512, 1, 28, 28])\n",
            "torch.Size([512, 32, 26, 26])\n",
            "torch.Size([512, 64, 12, 12])\n",
            "torch.Size([512, 128, 10, 10])\n",
            "torch.Size([512, 256, 4, 4])\n"
          ]
        },
        {
          "output_type": "stream",
          "name": "stderr",
          "text": [
            "Train: Loss=1.5102 Batch_id=49 Accuracy=30.11:  42%|████▏     | 49/118 [00:09<00:11,  5.97it/s]"
          ]
        },
        {
          "output_type": "stream",
          "name": "stdout",
          "text": [
            "torch.Size([512, 1, 28, 28])\n",
            "torch.Size([512, 32, 26, 26])\n",
            "torch.Size([512, 64, 12, 12])\n",
            "torch.Size([512, 128, 10, 10])\n",
            "torch.Size([512, 256, 4, 4])\n",
            "torch.Size([512, 1, 28, 28])\n",
            "torch.Size([512, 32, 26, 26])\n",
            "torch.Size([512, 64, 12, 12])\n",
            "torch.Size([512, 128, 10, 10])\n",
            "torch.Size([512, 256, 4, 4])\n"
          ]
        },
        {
          "output_type": "stream",
          "name": "stderr",
          "text": [
            "Train: Loss=5.2503 Batch_id=51 Accuracy=30.20:  43%|████▎     | 51/118 [00:10<00:11,  5.94it/s]"
          ]
        },
        {
          "output_type": "stream",
          "name": "stdout",
          "text": [
            "torch.Size([512, 1, 28, 28])\n",
            "torch.Size([512, 32, 26, 26])\n",
            "torch.Size([512, 64, 12, 12])\n",
            "torch.Size([512, 128, 10, 10])\n",
            "torch.Size([512, 256, 4, 4])\n",
            "torch.Size([512, 1, 28, 28])\n",
            "torch.Size([512, 32, 26, 26])\n",
            "torch.Size([512, 64, 12, 12])\n",
            "torch.Size([512, 128, 10, 10])\n",
            "torch.Size([512, 256, 4, 4])\n"
          ]
        },
        {
          "output_type": "stream",
          "name": "stderr",
          "text": [
            "Train: Loss=2.9762 Batch_id=53 Accuracy=30.17:  45%|████▍     | 53/118 [00:10<00:11,  5.84it/s]"
          ]
        },
        {
          "output_type": "stream",
          "name": "stdout",
          "text": [
            "torch.Size([512, 1, 28, 28])\n",
            "torch.Size([512, 32, 26, 26])\n",
            "torch.Size([512, 64, 12, 12])\n",
            "torch.Size([512, 128, 10, 10])\n",
            "torch.Size([512, 256, 4, 4])\n",
            "torch.Size([512, 1, 28, 28])\n",
            "torch.Size([512, 32, 26, 26])\n",
            "torch.Size([512, 64, 12, 12])\n",
            "torch.Size([512, 128, 10, 10])\n",
            "torch.Size([512, 256, 4, 4])\n"
          ]
        },
        {
          "output_type": "stream",
          "name": "stderr",
          "text": [
            "Train: Loss=2.1846 Batch_id=55 Accuracy=30.32:  47%|████▋     | 55/118 [00:10<00:10,  5.73it/s]"
          ]
        },
        {
          "output_type": "stream",
          "name": "stdout",
          "text": [
            "torch.Size([512, 1, 28, 28])\n",
            "torch.Size([512, 32, 26, 26])\n",
            "torch.Size([512, 64, 12, 12])\n",
            "torch.Size([512, 128, 10, 10])\n",
            "torch.Size([512, 256, 4, 4])\n",
            "torch.Size([512, 1, 28, 28])\n",
            "torch.Size([512, 32, 26, 26])\n",
            "torch.Size([512, 64, 12, 12])\n",
            "torch.Size([512, 128, 10, 10])\n",
            "torch.Size([512, 256, 4, 4])\n"
          ]
        },
        {
          "output_type": "stream",
          "name": "stderr",
          "text": [
            "Train: Loss=2.2698 Batch_id=57 Accuracy=30.15:  48%|████▊     | 57/118 [00:11<00:10,  5.73it/s]"
          ]
        },
        {
          "output_type": "stream",
          "name": "stdout",
          "text": [
            "torch.Size([512, 1, 28, 28])\n",
            "torch.Size([512, 32, 26, 26])\n",
            "torch.Size([512, 64, 12, 12])\n",
            "torch.Size([512, 128, 10, 10])\n",
            "torch.Size([512, 256, 4, 4])\n",
            "torch.Size([512, 1, 28, 28])\n",
            "torch.Size([512, 32, 26, 26])\n",
            "torch.Size([512, 64, 12, 12])\n",
            "torch.Size([512, 128, 10, 10])\n",
            "torch.Size([512, 256, 4, 4])\n"
          ]
        },
        {
          "output_type": "stream",
          "name": "stderr",
          "text": [
            "Train: Loss=2.2929 Batch_id=59 Accuracy=29.71:  50%|█████     | 59/118 [00:11<00:10,  5.64it/s]"
          ]
        },
        {
          "output_type": "stream",
          "name": "stdout",
          "text": [
            "torch.Size([512, 1, 28, 28])\n",
            "torch.Size([512, 32, 26, 26])\n",
            "torch.Size([512, 64, 12, 12])\n",
            "torch.Size([512, 128, 10, 10])\n",
            "torch.Size([512, 256, 4, 4])\n",
            "torch.Size([512, 1, 28, 28])\n",
            "torch.Size([512, 32, 26, 26])\n",
            "torch.Size([512, 64, 12, 12])\n",
            "torch.Size([512, 128, 10, 10])\n",
            "torch.Size([512, 256, 4, 4])\n"
          ]
        },
        {
          "output_type": "stream",
          "name": "stderr",
          "text": [
            "Train: Loss=2.2941 Batch_id=61 Accuracy=29.22:  53%|█████▎    | 62/118 [00:11<00:09,  6.07it/s]"
          ]
        },
        {
          "output_type": "stream",
          "name": "stdout",
          "text": [
            "torch.Size([512, 1, 28, 28])\n",
            "torch.Size([512, 32, 26, 26])\n",
            "torch.Size([512, 64, 12, 12])\n",
            "torch.Size([512, 128, 10, 10])\n",
            "torch.Size([512, 256, 4, 4])\n",
            "torch.Size([512, 1, 28, 28])\n",
            "torch.Size([512, 32, 26, 26])\n",
            "torch.Size([512, 64, 12, 12])\n",
            "torch.Size([512, 128, 10, 10])\n",
            "torch.Size([512, 256, 4, 4])\n"
          ]
        },
        {
          "output_type": "stream",
          "name": "stderr",
          "text": [
            "Train: Loss=2.2913 Batch_id=63 Accuracy=28.74:  54%|█████▍    | 64/118 [00:12<00:08,  6.05it/s]"
          ]
        },
        {
          "output_type": "stream",
          "name": "stdout",
          "text": [
            "torch.Size([512, 1, 28, 28])\n",
            "torch.Size([512, 32, 26, 26])\n",
            "torch.Size([512, 64, 12, 12])\n",
            "torch.Size([512, 128, 10, 10])\n",
            "torch.Size([512, 256, 4, 4])\n",
            "torch.Size([512, 1, 28, 28])\n",
            "torch.Size([512, 32, 26, 26])\n",
            "torch.Size([512, 64, 12, 12])\n",
            "torch.Size([512, 128, 10, 10])\n",
            "torch.Size([512, 256, 4, 4])\n"
          ]
        },
        {
          "output_type": "stream",
          "name": "stderr",
          "text": [
            "Train: Loss=2.2928 Batch_id=65 Accuracy=28.28:  56%|█████▌    | 66/118 [00:12<00:08,  5.85it/s]"
          ]
        },
        {
          "output_type": "stream",
          "name": "stdout",
          "text": [
            "torch.Size([512, 1, 28, 28])\n",
            "torch.Size([512, 32, 26, 26])\n",
            "torch.Size([512, 64, 12, 12])\n",
            "torch.Size([512, 128, 10, 10])\n",
            "torch.Size([512, 256, 4, 4])\n",
            "torch.Size([512, 1, 28, 28])\n",
            "torch.Size([512, 32, 26, 26])\n",
            "torch.Size([512, 64, 12, 12])\n",
            "torch.Size([512, 128, 10, 10])\n",
            "torch.Size([512, 256, 4, 4])\n"
          ]
        },
        {
          "output_type": "stream",
          "name": "stderr",
          "text": [
            "Train: Loss=2.2915 Batch_id=66 Accuracy=28.08:  57%|█████▋    | 67/118 [00:12<00:09,  5.66it/s]"
          ]
        },
        {
          "output_type": "stream",
          "name": "stdout",
          "text": [
            "torch.Size([512, 1, 28, 28])\n",
            "torch.Size([512, 32, 26, 26])\n",
            "torch.Size([512, 64, 12, 12])\n",
            "torch.Size([512, 128, 10, 10])\n",
            "torch.Size([512, 256, 4, 4])\n",
            "torch.Size([512, 1, 28, 28])\n",
            "torch.Size([512, 32, 26, 26])\n",
            "torch.Size([512, 64, 12, 12])\n",
            "torch.Size([512, 128, 10, 10])\n",
            "torch.Size([512, 256, 4, 4])\n"
          ]
        },
        {
          "output_type": "stream",
          "name": "stderr",
          "text": [
            "Train: Loss=2.2950 Batch_id=68 Accuracy=27.70:  58%|█████▊    | 69/118 [00:13<00:08,  5.68it/s]"
          ]
        },
        {
          "output_type": "stream",
          "name": "stdout",
          "text": [
            "torch.Size([512, 1, 28, 28])\n",
            "torch.Size([512, 32, 26, 26])\n",
            "torch.Size([512, 64, 12, 12])\n",
            "torch.Size([512, 128, 10, 10])\n",
            "torch.Size([512, 256, 4, 4])\n"
          ]
        },
        {
          "output_type": "stream",
          "name": "stderr",
          "text": [
            "Train: Loss=2.2858 Batch_id=70 Accuracy=27.57:  60%|██████    | 71/118 [00:13<00:08,  5.78it/s]"
          ]
        },
        {
          "output_type": "stream",
          "name": "stdout",
          "text": [
            "torch.Size([512, 1, 28, 28])\n",
            "torch.Size([512, 32, 26, 26])\n",
            "torch.Size([512, 64, 12, 12])\n",
            "torch.Size([512, 128, 10, 10])\n",
            "torch.Size([512, 256, 4, 4])\n",
            "torch.Size([512, 1, 28, 28])\n",
            "torch.Size([512, 32, 26, 26])\n",
            "torch.Size([512, 64, 12, 12])\n",
            "torch.Size([512, 128, 10, 10])\n",
            "torch.Size([512, 256, 4, 4])\n"
          ]
        },
        {
          "output_type": "stream",
          "name": "stderr",
          "text": [
            "Train: Loss=2.2952 Batch_id=72 Accuracy=27.49:  62%|██████▏   | 73/118 [00:13<00:07,  5.97it/s]"
          ]
        },
        {
          "output_type": "stream",
          "name": "stdout",
          "text": [
            "torch.Size([512, 1, 28, 28])\n",
            "torch.Size([512, 32, 26, 26])\n",
            "torch.Size([512, 64, 12, 12])\n",
            "torch.Size([512, 128, 10, 10])\n",
            "torch.Size([512, 256, 4, 4])\n",
            "torch.Size([512, 1, 28, 28])\n",
            "torch.Size([512, 32, 26, 26])\n",
            "torch.Size([512, 64, 12, 12])\n",
            "torch.Size([512, 128, 10, 10])\n",
            "torch.Size([512, 256, 4, 4])\n"
          ]
        },
        {
          "output_type": "stream",
          "name": "stderr",
          "text": [
            "Train: Loss=2.2893 Batch_id=74 Accuracy=27.44:  64%|██████▎   | 75/118 [00:14<00:07,  5.80it/s]"
          ]
        },
        {
          "output_type": "stream",
          "name": "stdout",
          "text": [
            "torch.Size([512, 1, 28, 28])\n",
            "torch.Size([512, 32, 26, 26])\n",
            "torch.Size([512, 64, 12, 12])\n",
            "torch.Size([512, 128, 10, 10])\n",
            "torch.Size([512, 256, 4, 4])\n",
            "torch.Size([512, 1, 28, 28])\n",
            "torch.Size([512, 32, 26, 26])\n",
            "torch.Size([512, 64, 12, 12])\n",
            "torch.Size([512, 128, 10, 10])\n",
            "torch.Size([512, 256, 4, 4])\n"
          ]
        },
        {
          "output_type": "stream",
          "name": "stderr",
          "text": [
            "Train: Loss=2.2813 Batch_id=76 Accuracy=27.39:  65%|██████▌   | 77/118 [00:14<00:06,  6.04it/s]"
          ]
        },
        {
          "output_type": "stream",
          "name": "stdout",
          "text": [
            "torch.Size([512, 1, 28, 28])\n",
            "torch.Size([512, 32, 26, 26])\n",
            "torch.Size([512, 64, 12, 12])\n",
            "torch.Size([512, 128, 10, 10])\n",
            "torch.Size([512, 256, 4, 4])\n",
            "torch.Size([512, 1, 28, 28])\n",
            "torch.Size([512, 32, 26, 26])\n",
            "torch.Size([512, 64, 12, 12])\n",
            "torch.Size([512, 128, 10, 10])\n",
            "torch.Size([512, 256, 4, 4])\n"
          ]
        },
        {
          "output_type": "stream",
          "name": "stderr",
          "text": [
            "Train: Loss=2.2853 Batch_id=77 Accuracy=27.33:  66%|██████▌   | 78/118 [00:14<00:07,  5.31it/s]"
          ]
        },
        {
          "output_type": "stream",
          "name": "stdout",
          "text": [
            "torch.Size([512, 1, 28, 28])\n",
            "torch.Size([512, 32, 26, 26])\n",
            "torch.Size([512, 64, 12, 12])\n",
            "torch.Size([512, 128, 10, 10])\n",
            "torch.Size([512, 256, 4, 4])\n"
          ]
        },
        {
          "output_type": "stream",
          "name": "stderr",
          "text": [
            "Train: Loss=2.2830 Batch_id=78 Accuracy=27.30:  67%|██████▋   | 79/118 [00:15<00:07,  4.89it/s]"
          ]
        },
        {
          "output_type": "stream",
          "name": "stdout",
          "text": [
            "torch.Size([512, 1, 28, 28])\n",
            "torch.Size([512, 32, 26, 26])\n",
            "torch.Size([512, 64, 12, 12])\n",
            "torch.Size([512, 128, 10, 10])\n",
            "torch.Size([512, 256, 4, 4])\n"
          ]
        },
        {
          "output_type": "stream",
          "name": "stderr",
          "text": [
            "Train: Loss=2.2770 Batch_id=79 Accuracy=27.33:  68%|██████▊   | 80/118 [00:15<00:08,  4.23it/s]"
          ]
        },
        {
          "output_type": "stream",
          "name": "stdout",
          "text": [
            "torch.Size([512, 1, 28, 28])\n",
            "torch.Size([512, 32, 26, 26])\n",
            "torch.Size([512, 64, 12, 12])\n",
            "torch.Size([512, 128, 10, 10])\n",
            "torch.Size([512, 256, 4, 4])\n",
            "torch.Size([512, 1, 28, 28])\n",
            "torch.Size([512, 32, 26, 26])\n",
            "torch.Size([512, 64, 12, 12])\n",
            "torch.Size([512, 128, 10, 10])\n",
            "torch.Size([512, 256, 4, 4])\n"
          ]
        },
        {
          "output_type": "stream",
          "name": "stderr",
          "text": [
            "Train: Loss=2.2772 Batch_id=81 Accuracy=27.33:  69%|██████▉   | 82/118 [00:15<00:09,  3.67it/s]"
          ]
        },
        {
          "output_type": "stream",
          "name": "stdout",
          "text": [
            "torch.Size([512, 1, 28, 28])\n",
            "torch.Size([512, 32, 26, 26])\n",
            "torch.Size([512, 64, 12, 12])\n",
            "torch.Size([512, 128, 10, 10])\n",
            "torch.Size([512, 256, 4, 4])\n"
          ]
        },
        {
          "output_type": "stream",
          "name": "stderr",
          "text": [
            "Train: Loss=2.2724 Batch_id=82 Accuracy=27.34:  70%|███████   | 83/118 [00:16<00:08,  3.91it/s]"
          ]
        },
        {
          "output_type": "stream",
          "name": "stdout",
          "text": [
            "torch.Size([512, 1, 28, 28])\n",
            "torch.Size([512, 32, 26, 26])\n",
            "torch.Size([512, 64, 12, 12])\n",
            "torch.Size([512, 128, 10, 10])\n",
            "torch.Size([512, 256, 4, 4])\n"
          ]
        },
        {
          "output_type": "stream",
          "name": "stderr",
          "text": [
            "Train: Loss=2.2655 Batch_id=84 Accuracy=27.30:  71%|███████   | 84/118 [00:16<00:10,  3.12it/s]"
          ]
        },
        {
          "output_type": "stream",
          "name": "stdout",
          "text": [
            "torch.Size([512, 1, 28, 28])\n",
            "torch.Size([512, 32, 26, 26])\n",
            "torch.Size([512, 64, 12, 12])\n",
            "torch.Size([512, 128, 10, 10])\n",
            "torch.Size([512, 256, 4, 4])\n",
            "torch.Size([512, 1, 28, 28])\n",
            "torch.Size([512, 32, 26, 26])\n",
            "torch.Size([512, 64, 12, 12])\n",
            "torch.Size([512, 128, 10, 10])\n",
            "torch.Size([512, 256, 4, 4])\n"
          ]
        },
        {
          "output_type": "stream",
          "name": "stderr",
          "text": [
            "Train: Loss=2.2696 Batch_id=85 Accuracy=27.25:  73%|███████▎  | 86/118 [00:17<00:09,  3.41it/s]"
          ]
        },
        {
          "output_type": "stream",
          "name": "stdout",
          "text": [
            "torch.Size([512, 1, 28, 28])\n",
            "torch.Size([512, 32, 26, 26])\n",
            "torch.Size([512, 64, 12, 12])\n",
            "torch.Size([512, 128, 10, 10])\n",
            "torch.Size([512, 256, 4, 4])\n",
            "torch.Size([512, 1, 28, 28])\n",
            "torch.Size([512, 32, 26, 26])\n",
            "torch.Size([512, 64, 12, 12])\n",
            "torch.Size([512, 128, 10, 10])\n",
            "torch.Size([512, 256, 4, 4])\n"
          ]
        },
        {
          "output_type": "stream",
          "name": "stderr",
          "text": [
            "Train: Loss=2.2657 Batch_id=87 Accuracy=27.15:  75%|███████▍  | 88/118 [00:17<00:07,  3.80it/s]"
          ]
        },
        {
          "output_type": "stream",
          "name": "stdout",
          "text": [
            "torch.Size([512, 1, 28, 28])\n",
            "torch.Size([512, 32, 26, 26])\n",
            "torch.Size([512, 64, 12, 12])\n",
            "torch.Size([512, 128, 10, 10])\n",
            "torch.Size([512, 256, 4, 4])\n"
          ]
        },
        {
          "output_type": "stream",
          "name": "stderr",
          "text": [
            "Train: Loss=2.2632 Batch_id=89 Accuracy=27.14:  75%|███████▌  | 89/118 [00:17<00:07,  3.69it/s]"
          ]
        },
        {
          "output_type": "stream",
          "name": "stdout",
          "text": [
            "torch.Size([512, 1, 28, 28])\n",
            "torch.Size([512, 32, 26, 26])\n",
            "torch.Size([512, 64, 12, 12])\n",
            "torch.Size([512, 128, 10, 10])\n",
            "torch.Size([512, 256, 4, 4])\n",
            "torch.Size([512, 1, 28, 28])\n",
            "torch.Size([512, 32, 26, 26])\n",
            "torch.Size([512, 64, 12, 12])\n",
            "torch.Size([512, 128, 10, 10])\n",
            "torch.Size([512, 256, 4, 4])\n"
          ]
        },
        {
          "output_type": "stream",
          "name": "stderr",
          "text": [
            "Train: Loss=2.2467 Batch_id=91 Accuracy=27.17:  78%|███████▊  | 92/118 [00:18<00:05,  4.98it/s]"
          ]
        },
        {
          "output_type": "stream",
          "name": "stdout",
          "text": [
            "torch.Size([512, 1, 28, 28])\n",
            "torch.Size([512, 32, 26, 26])\n",
            "torch.Size([512, 64, 12, 12])\n",
            "torch.Size([512, 128, 10, 10])\n",
            "torch.Size([512, 256, 4, 4])\n",
            "torch.Size([512, 1, 28, 28])\n",
            "torch.Size([512, 32, 26, 26])\n",
            "torch.Size([512, 64, 12, 12])\n",
            "torch.Size([512, 128, 10, 10])\n",
            "torch.Size([512, 256, 4, 4])\n"
          ]
        },
        {
          "output_type": "stream",
          "name": "stderr",
          "text": [
            "Train: Loss=2.2251 Batch_id=93 Accuracy=27.31:  80%|███████▉  | 94/118 [00:18<00:04,  5.44it/s]"
          ]
        },
        {
          "output_type": "stream",
          "name": "stdout",
          "text": [
            "torch.Size([512, 1, 28, 28])\n",
            "torch.Size([512, 32, 26, 26])\n",
            "torch.Size([512, 64, 12, 12])\n",
            "torch.Size([512, 128, 10, 10])\n",
            "torch.Size([512, 256, 4, 4])\n",
            "torch.Size([512, 1, 28, 28])\n",
            "torch.Size([512, 32, 26, 26])\n",
            "torch.Size([512, 64, 12, 12])\n",
            "torch.Size([512, 128, 10, 10])\n",
            "torch.Size([512, 256, 4, 4])\n"
          ]
        },
        {
          "output_type": "stream",
          "name": "stderr",
          "text": [
            "Train: Loss=2.2258 Batch_id=95 Accuracy=27.51:  81%|████████  | 95/118 [00:19<00:04,  5.00it/s]"
          ]
        },
        {
          "output_type": "stream",
          "name": "stdout",
          "text": [
            "torch.Size([512, 1, 28, 28])\n",
            "torch.Size([512, 32, 26, 26])\n",
            "torch.Size([512, 64, 12, 12])\n",
            "torch.Size([512, 128, 10, 10])\n",
            "torch.Size([512, 256, 4, 4])\n",
            "torch.Size([512, 1, 28, 28])\n",
            "torch.Size([512, 32, 26, 26])\n",
            "torch.Size([512, 64, 12, 12])\n",
            "torch.Size([512, 128, 10, 10])\n",
            "torch.Size([512, 256, 4, 4])\n"
          ]
        },
        {
          "output_type": "stream",
          "name": "stderr",
          "text": [
            "Train: Loss=2.2032 Batch_id=97 Accuracy=27.70:  82%|████████▏ | 97/118 [00:19<00:03,  5.31it/s]"
          ]
        },
        {
          "output_type": "stream",
          "name": "stdout",
          "text": [
            "torch.Size([512, 1, 28, 28])\n",
            "torch.Size([512, 32, 26, 26])\n",
            "torch.Size([512, 64, 12, 12])\n",
            "torch.Size([512, 128, 10, 10])\n",
            "torch.Size([512, 256, 4, 4])\n",
            "torch.Size([512, 1, 28, 28])\n",
            "torch.Size([512, 32, 26, 26])\n",
            "torch.Size([512, 64, 12, 12])\n",
            "torch.Size([512, 128, 10, 10])\n",
            "torch.Size([512, 256, 4, 4])\n"
          ]
        },
        {
          "output_type": "stream",
          "name": "stderr",
          "text": [
            "Train: Loss=2.1946 Batch_id=99 Accuracy=27.85:  84%|████████▍ | 99/118 [00:19<00:03,  5.37it/s]"
          ]
        },
        {
          "output_type": "stream",
          "name": "stdout",
          "text": [
            "torch.Size([512, 1, 28, 28])\n",
            "torch.Size([512, 32, 26, 26])\n",
            "torch.Size([512, 64, 12, 12])\n",
            "torch.Size([512, 128, 10, 10])\n",
            "torch.Size([512, 256, 4, 4])\n",
            "torch.Size([512, 1, 28, 28])\n",
            "torch.Size([512, 32, 26, 26])\n",
            "torch.Size([512, 64, 12, 12])\n",
            "torch.Size([512, 128, 10, 10])\n",
            "torch.Size([512, 256, 4, 4])\n"
          ]
        },
        {
          "output_type": "stream",
          "name": "stderr",
          "text": [
            "Train: Loss=2.1616 Batch_id=101 Accuracy=27.98:  86%|████████▌ | 101/118 [00:20<00:03,  5.47it/s]"
          ]
        },
        {
          "output_type": "stream",
          "name": "stdout",
          "text": [
            "torch.Size([512, 1, 28, 28])\n",
            "torch.Size([512, 32, 26, 26])\n",
            "torch.Size([512, 64, 12, 12])\n",
            "torch.Size([512, 128, 10, 10])\n",
            "torch.Size([512, 256, 4, 4])\n",
            "torch.Size([512, 1, 28, 28])\n",
            "torch.Size([512, 32, 26, 26])\n",
            "torch.Size([512, 64, 12, 12])\n",
            "torch.Size([512, 128, 10, 10])\n",
            "torch.Size([512, 256, 4, 4])\n"
          ]
        },
        {
          "output_type": "stream",
          "name": "stderr",
          "text": [
            "Train: Loss=2.1156 Batch_id=103 Accuracy=28.13:  87%|████████▋ | 103/118 [00:20<00:02,  5.63it/s]"
          ]
        },
        {
          "output_type": "stream",
          "name": "stdout",
          "text": [
            "torch.Size([512, 1, 28, 28])\n",
            "torch.Size([512, 32, 26, 26])\n",
            "torch.Size([512, 64, 12, 12])\n",
            "torch.Size([512, 128, 10, 10])\n",
            "torch.Size([512, 256, 4, 4])\n",
            "torch.Size([512, 1, 28, 28])\n",
            "torch.Size([512, 32, 26, 26])\n",
            "torch.Size([512, 64, 12, 12])\n",
            "torch.Size([512, 128, 10, 10])\n",
            "torch.Size([512, 256, 4, 4])\n"
          ]
        },
        {
          "output_type": "stream",
          "name": "stderr",
          "text": [
            "Train: Loss=2.1100 Batch_id=105 Accuracy=28.24:  89%|████████▉ | 105/118 [00:20<00:02,  5.69it/s]"
          ]
        },
        {
          "output_type": "stream",
          "name": "stdout",
          "text": [
            "torch.Size([512, 1, 28, 28])\n",
            "torch.Size([512, 32, 26, 26])\n",
            "torch.Size([512, 64, 12, 12])\n",
            "torch.Size([512, 128, 10, 10])\n",
            "torch.Size([512, 256, 4, 4])\n",
            "torch.Size([512, 1, 28, 28])\n",
            "torch.Size([512, 32, 26, 26])\n",
            "torch.Size([512, 64, 12, 12])\n",
            "torch.Size([512, 128, 10, 10])\n",
            "torch.Size([512, 256, 4, 4])\n"
          ]
        },
        {
          "output_type": "stream",
          "name": "stderr",
          "text": [
            "Train: Loss=2.0768 Batch_id=107 Accuracy=28.32:  91%|█████████ | 107/118 [00:21<00:01,  5.72it/s]"
          ]
        },
        {
          "output_type": "stream",
          "name": "stdout",
          "text": [
            "torch.Size([512, 1, 28, 28])\n",
            "torch.Size([512, 32, 26, 26])\n",
            "torch.Size([512, 64, 12, 12])\n",
            "torch.Size([512, 128, 10, 10])\n",
            "torch.Size([512, 256, 4, 4])\n",
            "torch.Size([512, 1, 28, 28])\n",
            "torch.Size([512, 32, 26, 26])\n",
            "torch.Size([512, 64, 12, 12])\n",
            "torch.Size([512, 128, 10, 10])\n",
            "torch.Size([512, 256, 4, 4])\n"
          ]
        },
        {
          "output_type": "stream",
          "name": "stderr",
          "text": [
            "Train: Loss=1.9891 Batch_id=109 Accuracy=28.44:  92%|█████████▏| 109/118 [00:21<00:01,  5.64it/s]"
          ]
        },
        {
          "output_type": "stream",
          "name": "stdout",
          "text": [
            "torch.Size([512, 1, 28, 28])\n",
            "torch.Size([512, 32, 26, 26])\n",
            "torch.Size([512, 64, 12, 12])\n",
            "torch.Size([512, 128, 10, 10])\n",
            "torch.Size([512, 256, 4, 4])\n",
            "torch.Size([512, 1, 28, 28])\n",
            "torch.Size([512, 32, 26, 26])\n",
            "torch.Size([512, 64, 12, 12])\n",
            "torch.Size([512, 128, 10, 10])\n",
            "torch.Size([512, 256, 4, 4])\n"
          ]
        },
        {
          "output_type": "stream",
          "name": "stderr",
          "text": [
            "Train: Loss=1.8834 Batch_id=111 Accuracy=28.58:  94%|█████████▍| 111/118 [00:21<00:01,  5.69it/s]"
          ]
        },
        {
          "output_type": "stream",
          "name": "stdout",
          "text": [
            "torch.Size([512, 1, 28, 28])\n",
            "torch.Size([512, 32, 26, 26])\n",
            "torch.Size([512, 64, 12, 12])\n",
            "torch.Size([512, 128, 10, 10])\n",
            "torch.Size([512, 256, 4, 4])\n",
            "torch.Size([512, 1, 28, 28])\n",
            "torch.Size([512, 32, 26, 26])\n",
            "torch.Size([512, 64, 12, 12])\n",
            "torch.Size([512, 128, 10, 10])\n",
            "torch.Size([512, 256, 4, 4])\n"
          ]
        },
        {
          "output_type": "stream",
          "name": "stderr",
          "text": [
            "Train: Loss=1.8194 Batch_id=113 Accuracy=28.72:  96%|█████████▌| 113/118 [00:22<00:00,  5.77it/s]"
          ]
        },
        {
          "output_type": "stream",
          "name": "stdout",
          "text": [
            "torch.Size([512, 1, 28, 28])\n",
            "torch.Size([512, 32, 26, 26])\n",
            "torch.Size([512, 64, 12, 12])\n",
            "torch.Size([512, 128, 10, 10])\n",
            "torch.Size([512, 256, 4, 4])\n",
            "torch.Size([512, 1, 28, 28])\n",
            "torch.Size([512, 32, 26, 26])\n",
            "torch.Size([512, 64, 12, 12])\n",
            "torch.Size([512, 128, 10, 10])\n",
            "torch.Size([512, 256, 4, 4])\n"
          ]
        },
        {
          "output_type": "stream",
          "name": "stderr",
          "text": [
            "Train: Loss=1.7433 Batch_id=115 Accuracy=28.86:  97%|█████████▋| 115/118 [00:22<00:00,  5.71it/s]"
          ]
        },
        {
          "output_type": "stream",
          "name": "stdout",
          "text": [
            "torch.Size([512, 1, 28, 28])\n",
            "torch.Size([512, 32, 26, 26])\n",
            "torch.Size([512, 64, 12, 12])\n",
            "torch.Size([512, 128, 10, 10])\n",
            "torch.Size([512, 256, 4, 4])\n",
            "torch.Size([512, 1, 28, 28])\n",
            "torch.Size([512, 32, 26, 26])\n",
            "torch.Size([512, 64, 12, 12])\n",
            "torch.Size([512, 128, 10, 10])\n",
            "torch.Size([512, 256, 4, 4])\n"
          ]
        },
        {
          "output_type": "stream",
          "name": "stderr",
          "text": [
            "Train: Loss=1.5723 Batch_id=117 Accuracy=29.02: 100%|██████████| 118/118 [00:22<00:00,  5.19it/s]"
          ]
        },
        {
          "output_type": "stream",
          "name": "stdout",
          "text": [
            "torch.Size([512, 1, 28, 28])\n",
            "torch.Size([512, 32, 26, 26])\n",
            "torch.Size([512, 64, 12, 12])\n",
            "torch.Size([512, 128, 10, 10])\n",
            "torch.Size([512, 256, 4, 4])\n",
            "torch.Size([96, 1, 28, 28])\n",
            "torch.Size([96, 32, 26, 26])\n",
            "torch.Size([96, 64, 12, 12])\n",
            "torch.Size([96, 128, 10, 10])\n",
            "torch.Size([96, 256, 4, 4])\n"
          ]
        },
        {
          "output_type": "stream",
          "name": "stderr",
          "text": [
            "\n"
          ]
        },
        {
          "output_type": "stream",
          "name": "stdout",
          "text": [
            "torch.Size([512, 1, 28, 28])\n",
            "torch.Size([512, 32, 26, 26])\n",
            "torch.Size([512, 64, 12, 12])\n",
            "torch.Size([512, 128, 10, 10])\n",
            "torch.Size([512, 256, 4, 4])\n",
            "torch.Size([512, 1, 28, 28])\n",
            "torch.Size([512, 32, 26, 26])\n",
            "torch.Size([512, 64, 12, 12])\n",
            "torch.Size([512, 128, 10, 10])\n",
            "torch.Size([512, 256, 4, 4])\n",
            "torch.Size([512, 1, 28, 28])\n",
            "torch.Size([512, 32, 26, 26])\n",
            "torch.Size([512, 64, 12, 12])\n",
            "torch.Size([512, 128, 10, 10])\n",
            "torch.Size([512, 256, 4, 4])\n",
            "torch.Size([512, 1, 28, 28])\n",
            "torch.Size([512, 32, 26, 26])\n",
            "torch.Size([512, 64, 12, 12])\n",
            "torch.Size([512, 128, 10, 10])\n",
            "torch.Size([512, 256, 4, 4])\n",
            "torch.Size([512, 1, 28, 28])\n",
            "torch.Size([512, 32, 26, 26])\n",
            "torch.Size([512, 64, 12, 12])\n",
            "torch.Size([512, 128, 10, 10])\n",
            "torch.Size([512, 256, 4, 4])\n",
            "torch.Size([512, 1, 28, 28])\n",
            "torch.Size([512, 32, 26, 26])\n",
            "torch.Size([512, 64, 12, 12])\n",
            "torch.Size([512, 128, 10, 10])\n",
            "torch.Size([512, 256, 4, 4])\n",
            "torch.Size([512, 1, 28, 28])\n",
            "torch.Size([512, 32, 26, 26])\n",
            "torch.Size([512, 64, 12, 12])\n",
            "torch.Size([512, 128, 10, 10])\n",
            "torch.Size([512, 256, 4, 4])\n",
            "torch.Size([512, 1, 28, 28])\n",
            "torch.Size([512, 32, 26, 26])\n",
            "torch.Size([512, 64, 12, 12])\n",
            "torch.Size([512, 128, 10, 10])\n",
            "torch.Size([512, 256, 4, 4])\n",
            "torch.Size([512, 1, 28, 28])\n",
            "torch.Size([512, 32, 26, 26])\n",
            "torch.Size([512, 64, 12, 12])\n",
            "torch.Size([512, 128, 10, 10])\n",
            "torch.Size([512, 256, 4, 4])\n",
            "torch.Size([512, 1, 28, 28])\n",
            "torch.Size([512, 32, 26, 26])\n",
            "torch.Size([512, 64, 12, 12])\n",
            "torch.Size([512, 128, 10, 10])\n",
            "torch.Size([512, 256, 4, 4])\n",
            "torch.Size([512, 1, 28, 28])\n",
            "torch.Size([512, 32, 26, 26])\n",
            "torch.Size([512, 64, 12, 12])\n",
            "torch.Size([512, 128, 10, 10])\n",
            "torch.Size([512, 256, 4, 4])\n",
            "torch.Size([512, 1, 28, 28])\n",
            "torch.Size([512, 32, 26, 26])\n",
            "torch.Size([512, 64, 12, 12])\n",
            "torch.Size([512, 128, 10, 10])\n",
            "torch.Size([512, 256, 4, 4])\n",
            "torch.Size([512, 1, 28, 28])\n",
            "torch.Size([512, 32, 26, 26])\n",
            "torch.Size([512, 64, 12, 12])\n",
            "torch.Size([512, 128, 10, 10])\n",
            "torch.Size([512, 256, 4, 4])\n",
            "torch.Size([512, 1, 28, 28])\n",
            "torch.Size([512, 32, 26, 26])\n",
            "torch.Size([512, 64, 12, 12])\n",
            "torch.Size([512, 128, 10, 10])\n",
            "torch.Size([512, 256, 4, 4])\n",
            "torch.Size([512, 1, 28, 28])\n",
            "torch.Size([512, 32, 26, 26])\n",
            "torch.Size([512, 64, 12, 12])\n",
            "torch.Size([512, 128, 10, 10])\n",
            "torch.Size([512, 256, 4, 4])\n",
            "torch.Size([512, 1, 28, 28])\n",
            "torch.Size([512, 32, 26, 26])\n",
            "torch.Size([512, 64, 12, 12])\n",
            "torch.Size([512, 128, 10, 10])\n",
            "torch.Size([512, 256, 4, 4])\n",
            "torch.Size([512, 1, 28, 28])\n",
            "torch.Size([512, 32, 26, 26])\n",
            "torch.Size([512, 64, 12, 12])\n",
            "torch.Size([512, 128, 10, 10])\n",
            "torch.Size([512, 256, 4, 4])\n",
            "torch.Size([512, 1, 28, 28])\n",
            "torch.Size([512, 32, 26, 26])\n",
            "torch.Size([512, 64, 12, 12])\n",
            "torch.Size([512, 128, 10, 10])\n",
            "torch.Size([512, 256, 4, 4])\n",
            "torch.Size([512, 1, 28, 28])\n",
            "torch.Size([512, 32, 26, 26])\n",
            "torch.Size([512, 64, 12, 12])\n",
            "torch.Size([512, 128, 10, 10])\n",
            "torch.Size([512, 256, 4, 4])\n",
            "torch.Size([272, 1, 28, 28])\n",
            "torch.Size([272, 32, 26, 26])\n",
            "torch.Size([272, 64, 12, 12])\n",
            "torch.Size([272, 128, 10, 10])\n",
            "torch.Size([272, 256, 4, 4])\n",
            "Test set: Average loss: 1.3954, Accuracy: 5865/10000 (58.65%)\n",
            "\n",
            "Adjusting learning rate of group 0 to 1.0000e-02.\n"
          ]
        }
      ]
    },
    {
      "cell_type": "code",
      "source": [
        "fig, axs = plt.subplots(2,2,figsize=(15,10))\n",
        "axs[0, 0].plot(train_losses)\n",
        "axs[0, 0].set_title(\"Training Loss\")\n",
        "axs[1, 0].plot(train_acc)\n",
        "axs[1, 0].set_title(\"Training Accuracy\")\n",
        "axs[0, 1].plot(test_losses)\n",
        "axs[0, 1].set_title(\"Test Loss\")\n",
        "axs[1, 1].plot(test_acc)\n",
        "axs[1, 1].set_title(\"Test Accuracy\")"
      ],
      "metadata": {
        "colab": {
          "base_uri": "https://localhost:8080/",
          "height": 871
        },
        "id": "Wu0l7dli4eC9",
        "outputId": "93af9f22-247d-4dc5-807a-b2d8afbeffa1"
      },
      "execution_count": 76,
      "outputs": [
        {
          "output_type": "execute_result",
          "data": {
            "text/plain": [
              "Text(0.5, 1.0, 'Test Accuracy')"
            ]
          },
          "metadata": {},
          "execution_count": 76
        },
        {
          "output_type": "display_data",
          "data": {
            "text/plain": [
              "<Figure size 1500x1000 with 4 Axes>"
            ],
            "image/png": "[encoded data removed]"
          },
          "metadata": {}
        }
      ]
    },
    {
      "cell_type": "code",
      "source": [
        "!pip install torchsummary\n",
        "from torchsummary import summary\n",
        "use_cuda = torch.cuda.is_available()\n",
        "device = torch.device(\"cuda\" if use_cuda else \"cpu\")\n",
        "model = Net().to(device)\n",
        "summary(model, input_size=(1, 28, 28))"
      ],
      "metadata": {
        "id": "C8WZPfXe4iK_",
        "colab": {
          "base_uri": "https://localhost:8080/"
        },
        "outputId": "f44d9655-1aa8-460a-d57e-050fcdd1a437"
      },
      "execution_count": 82,
      "outputs": [
        {
          "output_type": "stream",
          "name": "stdout",
          "text": [
            "Looking in indexes: https://pypi.org/simple, https://us-python.pkg.dev/colab-wheels/public/simple/\n",
            "Requirement already satisfied: torchsummary in /usr/local/lib/python3.10/dist-packages (1.5.1)\n",
            "torch.Size([2, 1, 28, 28])\n",
            "torch.Size([2, 32, 26, 26])\n",
            "torch.Size([2, 64, 12, 12])\n",
            "torch.Size([2, 128, 10, 10])\n",
            "torch.Size([2, 256, 4, 4])\n",
            "----------------------------------------------------------------\n",
            "        Layer (type)               Output Shape         Param #\n",
            "================================================================\n",
            "            Conv2d-1           [-1, 32, 26, 26]             320\n",
            "            Conv2d-2           [-1, 64, 24, 24]          18,496\n",
            "            Conv2d-3          [-1, 128, 10, 10]          73,856\n",
            "            Conv2d-4            [-1, 256, 8, 8]         295,168\n",
            "            Linear-5                   [-1, 50]         204,850\n",
            "            Linear-6                   [-1, 10]             510\n",
            "================================================================\n",
            "Total params: 593,200\n",
            "Trainable params: 593,200\n",
            "Non-trainable params: 0\n",
            "----------------------------------------------------------------\n",
            "Input size (MB): 0.00\n",
            "Forward/backward pass size (MB): 0.67\n",
            "Params size (MB): 2.26\n",
            "Estimated Total Size (MB): 2.94\n",
            "----------------------------------------------------------------\n"
          ]
        }
      ]
    }
  ]
}