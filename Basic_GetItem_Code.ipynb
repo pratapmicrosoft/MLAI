{
  "nbformat": 4,
  "nbformat_minor": 0,
  "metadata": {
    "colab": {
      "provenance": [],
      "authorship_tag": "ABX9TyOF0vuETIWnamGpG4pr+Z9T",
      "include_colab_link": true
    },
    "kernelspec": {
      "name": "python3",
      "display_name": "Python 3"
    },
    "language_info": {
      "name": "python"
    }
  },
  "cells": [
    {
      "cell_type": "markdown",
      "metadata": {
        "id": "view-in-github",
        "colab_type": "text"
      },
      "source": [
        "<a href=\"https://colab.research.google.com/github/pratapmicrosoft/MLAI/blob/main/Basic_GetItem_Code.ipynb\" target=\"_parent\"><img src=\"https://colab.research.google.com/assets/colab-badge.svg\" alt=\"Open In Colab\"/></a>"
      ]
    },
    {
      "cell_type": "markdown",
      "source": [
        "# Understanding the ID or Address of Value stored - and Variable points to the address \n",
        " "
      ],
      "metadata": {
        "id": "61NeXAA80drz"
      }
    },
    {
      "cell_type": "code",
      "source": [
        "x = 200\n",
        "print(id(x))\n",
        "\n",
        "y= 200\n",
        "print(id(y))\n",
        "\n",
        "z=300\n",
        "print(id(z))"
      ],
      "metadata": {
        "colab": {
          "base_uri": "https://localhost:8080/"
        },
        "id": "90ImC6JI0cBx",
        "outputId": "e47456b1-75c8-4ab7-fa78-989113eda841"
      },
      "execution_count": 12,
      "outputs": [
        {
          "output_type": "stream",
          "name": "stdout",
          "text": [
            "139693748885968\n",
            "139693748885968\n",
            "139693262256304\n"
          ]
        }
      ]
    },
    {
      "cell_type": "markdown",
      "source": [
        "#self --- > Default Paraneter and it means the object will be pass like in below examle object \"u\"\n",
        "\n",
        "#len and getitem as overwritten function which is derived in our UseLess class \n",
        "#when we start Itrating the object u , it fetches the getitem like constructor "
      ],
      "metadata": {
        "id": "VUvP6Gy6zk09"
      }
    },
    {
      "cell_type": "code",
      "execution_count": 9,
      "metadata": {
        "id": "MSmu-8p0oHpx"
      },
      "outputs": [],
      "source": [
        "dataSet = [\"cat\", \"book\", \"dog\", \"elephant\", \"table\"]\n",
        "label = [1, 0, 1, 1, 0]\n",
        "\n",
        "class UseLess:\n",
        "    def __init__(self, dataSet, label):\n",
        "        self.dataSet = dataSet\n",
        "        self.label = label\n",
        "\n",
        "    def __len__(self):\n",
        "        return len(self.dataSet)\n",
        "\n",
        "    def __getitem__(self, index):\n",
        "        return self.dataSet[index], self.label[index]\n",
        "\n",
        "u = UseLess(dataSet, label)\n"
      ]
    },
    {
      "cell_type": "code",
      "source": [
        "for d, l in u:\n",
        "    print(d, l)\n",
        "\n",
        "print(len(u))"
      ],
      "metadata": {
        "colab": {
          "base_uri": "https://localhost:8080/"
        },
        "id": "c58PPLiXonWs",
        "outputId": "ceb40bb1-99a9-4bd2-81fc-f70126d33052"
      },
      "execution_count": 10,
      "outputs": [
        {
          "output_type": "stream",
          "name": "stdout",
          "text": [
            "cat 1\n",
            "book 0\n",
            "dog 1\n",
            "elephant 1\n",
            "table 0\n",
            "5\n"
          ]
        }
      ]
    },
    {
      "cell_type": "code",
      "source": [
        "print(\"test\")"
      ],
      "metadata": {
        "colab": {
          "base_uri": "https://localhost:8080/"
        },
        "id": "s6UYuLHjoVch",
        "outputId": "0c6d85a1-52ae-4b17-bf87-d77a146e0c15"
      },
      "execution_count": 4,
      "outputs": [
        {
          "output_type": "stream",
          "name": "stdout",
          "text": [
            "test\n"
          ]
        }
      ]
    }
  ]
}