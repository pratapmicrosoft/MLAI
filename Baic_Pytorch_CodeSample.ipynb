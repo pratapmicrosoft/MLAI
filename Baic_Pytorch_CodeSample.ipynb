{
  "nbformat": 4,
  "nbformat_minor": 0,
  "metadata": {
    "colab": {
      "provenance": [],
      "authorship_tag": "ABX9TyPbJdaWKNx1B9NyEAmXtq08",
      "include_colab_link": true
    },
    "kernelspec": {
      "name": "python3",
      "display_name": "Python 3"
    },
    "language_info": {
      "name": "python"
    }
  },
  "cells": [
    {
      "cell_type": "markdown",
      "metadata": {
        "id": "view-in-github",
        "colab_type": "text"
      },
      "source": [
        "<a href=\"https://colab.research.google.com/github/pratapmicrosoft/MLAI/blob/main/Baic_Pytorch_CodeSample.ipynb\" target=\"_parent\"><img src=\"https://colab.research.google.com/assets/colab-badge.svg\" alt=\"Open In Colab\"/></a>"
      ]
    },
    {
      "cell_type": "markdown",
      "source": [
        "#The DataLoader object will load the dataset in batches of 32 and shuffle the batches before each epoch. "
      ],
      "metadata": {
        "id": "0wnWpElTuaoN"
      }
    },
    {
      "cell_type": "code",
      "source": [
        "data = [\"cat\", \"book\", \"dog\", \"elephant\", \"table\",\"fish\", \"bird\",]\n",
        "labels = [1, 0, 1, 1, 0,3,4]"
      ],
      "metadata": {
        "id": "t9o84wWtvTrb"
      },
      "execution_count": 16,
      "outputs": []
    },
    {
      "cell_type": "code",
      "execution_count": 2,
      "metadata": {
        "id": "VXXwTBURtqSc"
      },
      "outputs": [],
      "source": [
        "\n",
        "import torch\n",
        "from torch.utils.data import Dataset, DataLoader\n",
        "\n",
        "class MyDataset(Dataset):\n",
        "  def __init__(self, data, labels):\n",
        "    self.data = data\n",
        "    self.labels = labels\n",
        "\n",
        "  def __len__(self):\n",
        "    return len(self.data)\n",
        "\n",
        "  def __getitem__(self, index):\n",
        "    return self.data[index], self.labels[index]\n"
      ]
    },
    {
      "cell_type": "markdown",
      "source": [
        "The DataLoader object has a number of features that make it a powerful tool for machine learning. These features include:\n",
        "\n",
        "Batching: The DataLoader object can load data in batches, which can improve the performance of machine learning models.\n",
        "Shuffling: The DataLoader object can shuffle the data before each epoch, which can help to prevent overfitting.\n",
        "Multiprocessing: The DataLoader object can use multiple processes to load data, which can improve the loading speed."
      ],
      "metadata": {
        "id": "c4flYzqRxeY_"
      }
    },
    {
      "cell_type": "code",
      "source": [
        "\n",
        "\n",
        "data = MyDataset(data, labels)\n",
        "\n",
        "dataloader = DataLoader(data, batch_size=16, shuffle=True)\n",
        "\n",
        "for x, y in dataloader:\n",
        "  # Do something with the data here\n",
        "  print(x)\n",
        "  #print(y)\n",
        "  pass"
      ],
      "metadata": {
        "colab": {
          "base_uri": "https://localhost:8080/"
        },
        "id": "VAOAk-v9vI0C",
        "outputId": "03a10014-bd12-45ae-c500-0f772fca34f3"
      },
      "execution_count": 18,
      "outputs": [
        {
          "output_type": "stream",
          "name": "stdout",
          "text": [
            "[('dog', 'fish', 'elephant', 'book', 'cat', 'table', 'bird'), tensor([1, 3, 1, 0, 1, 0, 4])]\n"
          ]
        }
      ]
    }
  ]
}